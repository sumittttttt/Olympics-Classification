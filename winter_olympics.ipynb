{
 "cells": [
  {
   "cell_type": "markdown",
   "id": "0b749629",
   "metadata": {},
   "source": [
    "# Hamoye Capstone project - Winter Olympics"
   ]
  },
  {
   "cell_type": "markdown",
   "id": "0ca2c5b9",
   "metadata": {},
   "source": [
    "## By Sumit Redekar"
   ]
  },
  {
   "cell_type": "markdown",
   "id": "2f2175a3",
   "metadata": {},
   "source": [
    "### 1. Problem Statement\n",
    "To predict cities that are likely to win medals (Gold, Silver, Bronze). "
   ]
  },
  {
   "cell_type": "markdown",
   "id": "3fe608c8",
   "metadata": {},
   "source": [
    "### 2. Dataset \n",
    "Dataset taken from **Kaggle** - https://www.kaggle.com/the-guardian/olympic-games"
   ]
  },
  {
   "cell_type": "markdown",
   "id": "8a76e8d3",
   "metadata": {},
   "source": [
    "### 3. Evaluation\n",
    "Metrics used to evaluate the model performance are: accuracy, precision and f1 score."
   ]
  },
  {
   "cell_type": "markdown",
   "id": "a849c508",
   "metadata": {},
   "source": [
    "### Getting Started\n"
   ]
  },
  {
   "cell_type": "code",
   "execution_count": 4,
   "id": "c92c8f93",
   "metadata": {},
   "outputs": [],
   "source": [
    "#importing libraries\n",
    "import numpy as np\n",
    "import pandas as pd\n",
    "import matplotlib.pyplot as plt\n",
    "import seaborn as sns\n",
    "%matplotlib inline"
   ]
  },
  {
   "cell_type": "code",
   "execution_count": 5,
   "id": "11c2aa25",
   "metadata": {},
   "outputs": [],
   "source": [
    "data = pd.read_csv('winter.csv')"
   ]
  },
  {
   "cell_type": "code",
   "execution_count": 6,
   "id": "b3047f14",
   "metadata": {},
   "outputs": [
    {
     "data": {
      "text/html": [
       "<div>\n",
       "<style scoped>\n",
       "    .dataframe tbody tr th:only-of-type {\n",
       "        vertical-align: middle;\n",
       "    }\n",
       "\n",
       "    .dataframe tbody tr th {\n",
       "        vertical-align: top;\n",
       "    }\n",
       "\n",
       "    .dataframe thead th {\n",
       "        text-align: right;\n",
       "    }\n",
       "</style>\n",
       "<table border=\"1\" class=\"dataframe\">\n",
       "  <thead>\n",
       "    <tr style=\"text-align: right;\">\n",
       "      <th></th>\n",
       "      <th>Year</th>\n",
       "      <th>City</th>\n",
       "      <th>Sport</th>\n",
       "      <th>Discipline</th>\n",
       "      <th>Athlete</th>\n",
       "      <th>Country</th>\n",
       "      <th>Gender</th>\n",
       "      <th>Event</th>\n",
       "      <th>Medal</th>\n",
       "    </tr>\n",
       "  </thead>\n",
       "  <tbody>\n",
       "    <tr>\n",
       "      <th>0</th>\n",
       "      <td>1924</td>\n",
       "      <td>Chamonix</td>\n",
       "      <td>Biathlon</td>\n",
       "      <td>Biathlon</td>\n",
       "      <td>BERTHET, G.</td>\n",
       "      <td>FRA</td>\n",
       "      <td>Men</td>\n",
       "      <td>Military Patrol</td>\n",
       "      <td>Bronze</td>\n",
       "    </tr>\n",
       "    <tr>\n",
       "      <th>1</th>\n",
       "      <td>1924</td>\n",
       "      <td>Chamonix</td>\n",
       "      <td>Biathlon</td>\n",
       "      <td>Biathlon</td>\n",
       "      <td>MANDRILLON, C.</td>\n",
       "      <td>FRA</td>\n",
       "      <td>Men</td>\n",
       "      <td>Military Patrol</td>\n",
       "      <td>Bronze</td>\n",
       "    </tr>\n",
       "    <tr>\n",
       "      <th>2</th>\n",
       "      <td>1924</td>\n",
       "      <td>Chamonix</td>\n",
       "      <td>Biathlon</td>\n",
       "      <td>Biathlon</td>\n",
       "      <td>MANDRILLON, Maurice</td>\n",
       "      <td>FRA</td>\n",
       "      <td>Men</td>\n",
       "      <td>Military Patrol</td>\n",
       "      <td>Bronze</td>\n",
       "    </tr>\n",
       "    <tr>\n",
       "      <th>3</th>\n",
       "      <td>1924</td>\n",
       "      <td>Chamonix</td>\n",
       "      <td>Biathlon</td>\n",
       "      <td>Biathlon</td>\n",
       "      <td>VANDELLE, André</td>\n",
       "      <td>FRA</td>\n",
       "      <td>Men</td>\n",
       "      <td>Military Patrol</td>\n",
       "      <td>Bronze</td>\n",
       "    </tr>\n",
       "    <tr>\n",
       "      <th>4</th>\n",
       "      <td>1924</td>\n",
       "      <td>Chamonix</td>\n",
       "      <td>Biathlon</td>\n",
       "      <td>Biathlon</td>\n",
       "      <td>AUFDENBLATTEN, Adolf</td>\n",
       "      <td>SUI</td>\n",
       "      <td>Men</td>\n",
       "      <td>Military Patrol</td>\n",
       "      <td>Gold</td>\n",
       "    </tr>\n",
       "  </tbody>\n",
       "</table>\n",
       "</div>"
      ],
      "text/plain": [
       "   Year      City     Sport Discipline               Athlete Country Gender  \\\n",
       "0  1924  Chamonix  Biathlon   Biathlon           BERTHET, G.     FRA    Men   \n",
       "1  1924  Chamonix  Biathlon   Biathlon        MANDRILLON, C.     FRA    Men   \n",
       "2  1924  Chamonix  Biathlon   Biathlon   MANDRILLON, Maurice     FRA    Men   \n",
       "3  1924  Chamonix  Biathlon   Biathlon       VANDELLE, André     FRA    Men   \n",
       "4  1924  Chamonix  Biathlon   Biathlon  AUFDENBLATTEN, Adolf     SUI    Men   \n",
       "\n",
       "             Event   Medal  \n",
       "0  Military Patrol  Bronze  \n",
       "1  Military Patrol  Bronze  \n",
       "2  Military Patrol  Bronze  \n",
       "3  Military Patrol  Bronze  \n",
       "4  Military Patrol    Gold  "
      ]
     },
     "execution_count": 6,
     "metadata": {},
     "output_type": "execute_result"
    }
   ],
   "source": [
    "data.head()"
   ]
  },
  {
   "cell_type": "markdown",
   "id": "60798f56",
   "metadata": {},
   "source": [
    "### Exploratory Data Analysis"
   ]
  },
  {
   "cell_type": "code",
   "execution_count": 7,
   "id": "47fcd259",
   "metadata": {},
   "outputs": [
    {
     "name": "stdout",
     "output_type": "stream",
     "text": [
      "<class 'pandas.core.frame.DataFrame'>\n",
      "RangeIndex: 5770 entries, 0 to 5769\n",
      "Data columns (total 9 columns):\n",
      " #   Column      Non-Null Count  Dtype \n",
      "---  ------      --------------  ----- \n",
      " 0   Year        5770 non-null   int64 \n",
      " 1   City        5770 non-null   object\n",
      " 2   Sport       5770 non-null   object\n",
      " 3   Discipline  5770 non-null   object\n",
      " 4   Athlete     5770 non-null   object\n",
      " 5   Country     5770 non-null   object\n",
      " 6   Gender      5770 non-null   object\n",
      " 7   Event       5770 non-null   object\n",
      " 8   Medal       5770 non-null   object\n",
      "dtypes: int64(1), object(8)\n",
      "memory usage: 405.8+ KB\n"
     ]
    }
   ],
   "source": [
    "data.info()"
   ]
  },
  {
   "cell_type": "code",
   "execution_count": 8,
   "id": "43bd4bd9",
   "metadata": {},
   "outputs": [
    {
     "data": {
      "text/html": [
       "<div>\n",
       "<style scoped>\n",
       "    .dataframe tbody tr th:only-of-type {\n",
       "        vertical-align: middle;\n",
       "    }\n",
       "\n",
       "    .dataframe tbody tr th {\n",
       "        vertical-align: top;\n",
       "    }\n",
       "\n",
       "    .dataframe thead th {\n",
       "        text-align: right;\n",
       "    }\n",
       "</style>\n",
       "<table border=\"1\" class=\"dataframe\">\n",
       "  <thead>\n",
       "    <tr style=\"text-align: right;\">\n",
       "      <th></th>\n",
       "      <th>Year</th>\n",
       "    </tr>\n",
       "  </thead>\n",
       "  <tbody>\n",
       "    <tr>\n",
       "      <th>count</th>\n",
       "      <td>5770.000000</td>\n",
       "    </tr>\n",
       "    <tr>\n",
       "      <th>mean</th>\n",
       "      <td>1986.350433</td>\n",
       "    </tr>\n",
       "    <tr>\n",
       "      <th>std</th>\n",
       "      <td>24.263673</td>\n",
       "    </tr>\n",
       "    <tr>\n",
       "      <th>min</th>\n",
       "      <td>1924.000000</td>\n",
       "    </tr>\n",
       "    <tr>\n",
       "      <th>25%</th>\n",
       "      <td>1972.000000</td>\n",
       "    </tr>\n",
       "    <tr>\n",
       "      <th>50%</th>\n",
       "      <td>1994.000000</td>\n",
       "    </tr>\n",
       "    <tr>\n",
       "      <th>75%</th>\n",
       "      <td>2006.000000</td>\n",
       "    </tr>\n",
       "    <tr>\n",
       "      <th>max</th>\n",
       "      <td>2014.000000</td>\n",
       "    </tr>\n",
       "  </tbody>\n",
       "</table>\n",
       "</div>"
      ],
      "text/plain": [
       "              Year\n",
       "count  5770.000000\n",
       "mean   1986.350433\n",
       "std      24.263673\n",
       "min    1924.000000\n",
       "25%    1972.000000\n",
       "50%    1994.000000\n",
       "75%    2006.000000\n",
       "max    2014.000000"
      ]
     },
     "execution_count": 8,
     "metadata": {},
     "output_type": "execute_result"
    }
   ],
   "source": [
    "data.describe()"
   ]
  },
  {
   "cell_type": "code",
   "execution_count": 10,
   "id": "d83efbd1",
   "metadata": {},
   "outputs": [
    {
     "data": {
      "image/png": "[encoded data removed]",
      "text/plain": [
       "<Figure size 432x288 with 1 Axes>"
      ]
     },
     "metadata": {
      "needs_background": "light"
     },
     "output_type": "display_data"
    }
   ],
   "source": [
    "data.plot(kind='hist');"
   ]
  },
  {
   "cell_type": "markdown",
   "id": "22dee1db",
   "metadata": {},
   "source": [
    "#### Converting categorical features into numeric features with Ordinal Encoding"
   ]
  },
  {
   "cell_type": "code",
   "execution_count": 29,
   "id": "9f78d8b6",
   "metadata": {},
   "outputs": [],
   "source": [
    "from sklearn.preprocessing import OrdinalEncoder\n",
    "from sklearn.compose import ColumnTransformer"
   ]
  },
  {
   "cell_type": "code",
   "execution_count": 37,
   "id": "4ae94d7f",
   "metadata": {},
   "outputs": [],
   "source": [
    "#copy of og data\n",
    "data_tmp = data.copy()"
   ]
  },
  {
   "cell_type": "code",
   "execution_count": 38,
   "id": "cd15762e",
   "metadata": {},
   "outputs": [
    {
     "data": {
      "text/plain": [
       "Index(['Year', 'City', 'Sport', 'Discipline', 'Athlete', 'Country', 'Gender',\n",
       "       'Event', 'Medal'],\n",
       "      dtype='object')"
      ]
     },
     "execution_count": 38,
     "metadata": {},
     "output_type": "execute_result"
    }
   ],
   "source": [
    "data.columns"
   ]
  },
  {
   "cell_type": "code",
   "execution_count": 39,
   "id": "ece6e46a",
   "metadata": {},
   "outputs": [],
   "source": [
    "categorical_features = ['City', 'Sport', 'Discipline', 'Athlete', 'Country', 'Gender','Event', 'Medal']\n",
    "ordinal = OrdinalEncoder()\n",
    "data_tmp[categorical_features] = ordinal.fit_transform(data[categorical_features])"
   ]
  },
  {
   "cell_type": "code",
   "execution_count": 40,
   "id": "7d94901a",
   "metadata": {},
   "outputs": [
    {
     "data": {
      "text/html": [
       "<div>\n",
       "<style scoped>\n",
       "    .dataframe tbody tr th:only-of-type {\n",
       "        vertical-align: middle;\n",
       "    }\n",
       "\n",
       "    .dataframe tbody tr th {\n",
       "        vertical-align: top;\n",
       "    }\n",
       "\n",
       "    .dataframe thead th {\n",
       "        text-align: right;\n",
       "    }\n",
       "</style>\n",
       "<table border=\"1\" class=\"dataframe\">\n",
       "  <thead>\n",
       "    <tr style=\"text-align: right;\">\n",
       "      <th></th>\n",
       "      <th>Year</th>\n",
       "      <th>City</th>\n",
       "      <th>Sport</th>\n",
       "      <th>Discipline</th>\n",
       "      <th>Athlete</th>\n",
       "      <th>Country</th>\n",
       "      <th>Gender</th>\n",
       "      <th>Event</th>\n",
       "      <th>Medal</th>\n",
       "    </tr>\n",
       "  </thead>\n",
       "  <tbody>\n",
       "    <tr>\n",
       "      <th>0</th>\n",
       "      <td>1924</td>\n",
       "      <td>2.0</td>\n",
       "      <td>0.0</td>\n",
       "      <td>1.0</td>\n",
       "      <td>280.0</td>\n",
       "      <td>15.0</td>\n",
       "      <td>0.0</td>\n",
       "      <td>57.0</td>\n",
       "      <td>0.0</td>\n",
       "    </tr>\n",
       "    <tr>\n",
       "      <th>1</th>\n",
       "      <td>1924</td>\n",
       "      <td>2.0</td>\n",
       "      <td>0.0</td>\n",
       "      <td>1.0</td>\n",
       "      <td>2075.0</td>\n",
       "      <td>15.0</td>\n",
       "      <td>0.0</td>\n",
       "      <td>57.0</td>\n",
       "      <td>0.0</td>\n",
       "    </tr>\n",
       "    <tr>\n",
       "      <th>2</th>\n",
       "      <td>1924</td>\n",
       "      <td>2.0</td>\n",
       "      <td>0.0</td>\n",
       "      <td>1.0</td>\n",
       "      <td>2076.0</td>\n",
       "      <td>15.0</td>\n",
       "      <td>0.0</td>\n",
       "      <td>57.0</td>\n",
       "      <td>0.0</td>\n",
       "    </tr>\n",
       "    <tr>\n",
       "      <th>3</th>\n",
       "      <td>1924</td>\n",
       "      <td>2.0</td>\n",
       "      <td>0.0</td>\n",
       "      <td>1.0</td>\n",
       "      <td>3456.0</td>\n",
       "      <td>15.0</td>\n",
       "      <td>0.0</td>\n",
       "      <td>57.0</td>\n",
       "      <td>0.0</td>\n",
       "    </tr>\n",
       "    <tr>\n",
       "      <th>4</th>\n",
       "      <td>1924</td>\n",
       "      <td>2.0</td>\n",
       "      <td>0.0</td>\n",
       "      <td>1.0</td>\n",
       "      <td>152.0</td>\n",
       "      <td>36.0</td>\n",
       "      <td>0.0</td>\n",
       "      <td>57.0</td>\n",
       "      <td>1.0</td>\n",
       "    </tr>\n",
       "    <tr>\n",
       "      <th>...</th>\n",
       "      <td>...</td>\n",
       "      <td>...</td>\n",
       "      <td>...</td>\n",
       "      <td>...</td>\n",
       "      <td>...</td>\n",
       "      <td>...</td>\n",
       "      <td>...</td>\n",
       "      <td>...</td>\n",
       "      <td>...</td>\n",
       "    </tr>\n",
       "    <tr>\n",
       "      <th>5765</th>\n",
       "      <td>2014</td>\n",
       "      <td>14.0</td>\n",
       "      <td>6.0</td>\n",
       "      <td>13.0</td>\n",
       "      <td>1477.0</td>\n",
       "      <td>17.0</td>\n",
       "      <td>1.0</td>\n",
       "      <td>69.0</td>\n",
       "      <td>0.0</td>\n",
       "    </tr>\n",
       "    <tr>\n",
       "      <th>5766</th>\n",
       "      <td>2014</td>\n",
       "      <td>14.0</td>\n",
       "      <td>6.0</td>\n",
       "      <td>13.0</td>\n",
       "      <td>77.0</td>\n",
       "      <td>42.0</td>\n",
       "      <td>1.0</td>\n",
       "      <td>69.0</td>\n",
       "      <td>1.0</td>\n",
       "    </tr>\n",
       "    <tr>\n",
       "      <th>5767</th>\n",
       "      <td>2014</td>\n",
       "      <td>14.0</td>\n",
       "      <td>6.0</td>\n",
       "      <td>13.0</td>\n",
       "      <td>2067.0</td>\n",
       "      <td>5.0</td>\n",
       "      <td>1.0</td>\n",
       "      <td>70.0</td>\n",
       "      <td>2.0</td>\n",
       "    </tr>\n",
       "    <tr>\n",
       "      <th>5768</th>\n",
       "      <td>2014</td>\n",
       "      <td>14.0</td>\n",
       "      <td>6.0</td>\n",
       "      <td>13.0</td>\n",
       "      <td>2882.0</td>\n",
       "      <td>8.0</td>\n",
       "      <td>1.0</td>\n",
       "      <td>70.0</td>\n",
       "      <td>1.0</td>\n",
       "    </tr>\n",
       "    <tr>\n",
       "      <th>5769</th>\n",
       "      <td>2014</td>\n",
       "      <td>14.0</td>\n",
       "      <td>6.0</td>\n",
       "      <td>13.0</td>\n",
       "      <td>3383.0</td>\n",
       "      <td>15.0</td>\n",
       "      <td>1.0</td>\n",
       "      <td>70.0</td>\n",
       "      <td>0.0</td>\n",
       "    </tr>\n",
       "  </tbody>\n",
       "</table>\n",
       "<p>5770 rows × 9 columns</p>\n",
       "</div>"
      ],
      "text/plain": [
       "      Year  City  Sport  Discipline  Athlete  Country  Gender  Event  Medal\n",
       "0     1924   2.0    0.0         1.0    280.0     15.0     0.0   57.0    0.0\n",
       "1     1924   2.0    0.0         1.0   2075.0     15.0     0.0   57.0    0.0\n",
       "2     1924   2.0    0.0         1.0   2076.0     15.0     0.0   57.0    0.0\n",
       "3     1924   2.0    0.0         1.0   3456.0     15.0     0.0   57.0    0.0\n",
       "4     1924   2.0    0.0         1.0    152.0     36.0     0.0   57.0    1.0\n",
       "...    ...   ...    ...         ...      ...      ...     ...    ...    ...\n",
       "5765  2014  14.0    6.0        13.0   1477.0     17.0     1.0   69.0    0.0\n",
       "5766  2014  14.0    6.0        13.0     77.0     42.0     1.0   69.0    1.0\n",
       "5767  2014  14.0    6.0        13.0   2067.0      5.0     1.0   70.0    2.0\n",
       "5768  2014  14.0    6.0        13.0   2882.0      8.0     1.0   70.0    1.0\n",
       "5769  2014  14.0    6.0        13.0   3383.0     15.0     1.0   70.0    0.0\n",
       "\n",
       "[5770 rows x 9 columns]"
      ]
     },
     "execution_count": 40,
     "metadata": {},
     "output_type": "execute_result"
    }
   ],
   "source": [
    "data_tmp"
   ]
  },
  {
   "cell_type": "code",
   "execution_count": 42,
   "id": "95c26214",
   "metadata": {},
   "outputs": [
    {
     "name": "stdout",
     "output_type": "stream",
     "text": [
      "<class 'pandas.core.frame.DataFrame'>\n",
      "RangeIndex: 5770 entries, 0 to 5769\n",
      "Data columns (total 9 columns):\n",
      " #   Column      Non-Null Count  Dtype  \n",
      "---  ------      --------------  -----  \n",
      " 0   Year        5770 non-null   int64  \n",
      " 1   City        5770 non-null   float64\n",
      " 2   Sport       5770 non-null   float64\n",
      " 3   Discipline  5770 non-null   float64\n",
      " 4   Athlete     5770 non-null   float64\n",
      " 5   Country     5770 non-null   float64\n",
      " 6   Gender      5770 non-null   float64\n",
      " 7   Event       5770 non-null   float64\n",
      " 8   Medal       5770 non-null   float64\n",
      "dtypes: float64(8), int64(1)\n",
      "memory usage: 405.8 KB\n"
     ]
    }
   ],
   "source": [
    "data_tmp.info()\n"
   ]
  },
  {
   "cell_type": "code",
   "execution_count": 43,
   "id": "4b0f98f4",
   "metadata": {},
   "outputs": [
    {
     "data": {
      "text/plain": [
       "Year          0\n",
       "City          0\n",
       "Sport         0\n",
       "Discipline    0\n",
       "Athlete       0\n",
       "Country       0\n",
       "Gender        0\n",
       "Event         0\n",
       "Medal         0\n",
       "dtype: int64"
      ]
     },
     "execution_count": 43,
     "metadata": {},
     "output_type": "execute_result"
    }
   ],
   "source": [
    "data_tmp.isnull().sum()"
   ]
  },
  {
   "cell_type": "markdown",
   "id": "1fd9e755",
   "metadata": {},
   "source": [
    "After converting all categorical features into numerical features our data is now ready for modeling"
   ]
  },
  {
   "cell_type": "markdown",
   "id": "30fa500e",
   "metadata": {},
   "source": [
    "### Modeling"
   ]
  },
  {
   "cell_type": "code",
   "execution_count": 50,
   "id": "685523d5",
   "metadata": {},
   "outputs": [],
   "source": [
    "#getting our X and y\n",
    "X = data_tmp.drop('City',axis=1)\n",
    "y = data_tmp['City']"
   ]
  },
  {
   "cell_type": "code",
   "execution_count": 51,
   "id": "339da59c",
   "metadata": {},
   "outputs": [],
   "source": [
    "from  sklearn.model_selection import train_test_split\n",
    "\n",
    "#splitting X and y in training and testing data\n",
    "X_train, X_test, y_train, y_test = train_test_split(X, y, test_size=0.2, random_state=42)"
   ]
  },
  {
   "cell_type": "code",
   "execution_count": 55,
   "id": "d0ebef2f",
   "metadata": {},
   "outputs": [
    {
     "data": {
      "text/plain": [
       "((4616, 8), (4616,))"
      ]
     },
     "execution_count": 55,
     "metadata": {},
     "output_type": "execute_result"
    }
   ],
   "source": [
    "X_train.shape, y_train.shape"
   ]
  },
  {
   "cell_type": "code",
   "execution_count": 54,
   "id": "9c99f5ac",
   "metadata": {},
   "outputs": [
    {
     "data": {
      "text/plain": [
       "((1154, 8), (1154,))"
      ]
     },
     "execution_count": 54,
     "metadata": {},
     "output_type": "execute_result"
    }
   ],
   "source": [
    "X_test.shape, y_test.shape"
   ]
  },
  {
   "cell_type": "code",
   "execution_count": 56,
   "id": "d1590193",
   "metadata": {},
   "outputs": [],
   "source": [
    "#importing models\n",
    "from sklearn.linear_model import LogisticRegression\n",
    "from sklearn.ensemble import RandomForestClassifier, GradientBoostingClassifier, AdaBoostClassifier\n",
    "from sklearn.neighbors import KNeighborsClassifier\n",
    "from catboost import CatBoostClassifier\n",
    "from xgboost import XGBClassifier"
   ]
  },
  {
   "cell_type": "code",
   "execution_count": 65,
   "id": "a21657ef",
   "metadata": {},
   "outputs": [],
   "source": [
    "#importing metrics \n",
    "from sklearn.model_selection import RandomizedSearchCV,GridSearchCV,cross_val_score\n",
    "from sklearn.metrics import classification_report,confusion_matrix\n",
    "from sklearn.metrics import precision_score,recall_score,f1_score\n",
    "from sklearn.metrics import plot_roc_curve"
   ]
  },
  {
   "cell_type": "code",
   "execution_count": 66,
   "id": "c8e75145",
   "metadata": {},
   "outputs": [],
   "source": [
    "models = {\n",
    "    'Logistic': LogisticRegression(),\n",
    "    'RandomForest': RandomForestClassifier(),\n",
    "    'GradientBoosting': GradientBoostingClassifier(),\n",
    "    'Ada': AdaBoostClassifier(),\n",
    "    'KNeighbors': KNeighborsClassifier(),\n",
    "    'CatBoost': CatBoostClassifier(silent=True),\n",
    "    'XGB': XGBClassifier()\n",
    "}"
   ]
  },
  {
   "cell_type": "code",
   "execution_count": 74,
   "id": "6e7c6745",
   "metadata": {},
   "outputs": [],
   "source": [
    "def fit_score(models,X_train,X_test,y_train,y_test):\n",
    "    for name,model in models.items():\n",
    "        #fitting our model\n",
    "        model.fit(X_train,y_train)\n",
    "        print(f'Fitting {name} !!')\n",
    "        \n",
    "        #accuracy\n",
    "        score = model.score(X_test,y_test)\n",
    "        print(f'Accuracy of {name} is {score}.')"
   ]
  },
  {
   "cell_type": "code",
   "execution_count": 75,
   "id": "71493eae",
   "metadata": {},
   "outputs": [
    {
     "name": "stderr",
     "output_type": "stream",
     "text": [
      "C:\\Users\\6\\anaconda3\\lib\\site-packages\\sklearn\\linear_model\\_logistic.py:763: ConvergenceWarning: lbfgs failed to converge (status=1):\n",
      "STOP: TOTAL NO. of ITERATIONS REACHED LIMIT.\n",
      "\n",
      "Increase the number of iterations (max_iter) or scale the data as shown in:\n",
      "    https://scikit-learn.org/stable/modules/preprocessing.html\n",
      "Please also refer to the documentation for alternative solver options:\n",
      "    https://scikit-learn.org/stable/modules/linear_model.html#logistic-regression\n",
      "  n_iter_i = _check_optimize_result(\n"
     ]
    },
    {
     "name": "stdout",
     "output_type": "stream",
     "text": [
      "Fitting Logistic !!\n",
      "Accuracy of Logistic is 0.10571923743500866.\n",
      "Fitting RandomForest !!\n",
      "Accuracy of RandomForest is 0.8708838821490468.\n",
      "Fitting GradientBoosting !!\n",
      "Accuracy of GradientBoosting is 1.0.\n",
      "Fitting Ada !!\n",
      "Accuracy of Ada is 0.462738301559792.\n",
      "Fitting KNeighbors !!\n",
      "Accuracy of KNeighbors is 0.22357019064124783.\n",
      "Fitting CatBoost !!\n",
      "Accuracy of CatBoost is 1.0.\n",
      "[16:11:49] WARNING: C:/Users/Administrator/workspace/xgboost-win64_release_1.4.0/src/learner.cc:1095: Starting in XGBoost 1.3.0, the default evaluation metric used with the objective 'multi:softprob' was changed from 'merror' to 'mlogloss'. Explicitly set eval_metric if you'd like to restore the old behavior.\n"
     ]
    },
    {
     "name": "stderr",
     "output_type": "stream",
     "text": [
      "C:\\Users\\6\\anaconda3\\lib\\site-packages\\xgboost\\sklearn.py:1146: UserWarning: The use of label encoder in XGBClassifier is deprecated and will be removed in a future release. To remove this warning, do the following: 1) Pass option use_label_encoder=False when constructing XGBClassifier object; and 2) Encode your labels (y) as integers starting with 0, i.e. 0, 1, 2, ..., [num_class - 1].\n",
      "  warnings.warn(label_encoder_deprecation_msg, UserWarning)\n"
     ]
    },
    {
     "name": "stdout",
     "output_type": "stream",
     "text": [
      "Fitting XGB !!\n",
      "Accuracy of XGB is 1.0.\n"
     ]
    }
   ],
   "source": [
    "fit_score(models=models,\n",
    "          X_train=X_train,\n",
    "          X_test=X_test,\n",
    "          y_train=y_train,\n",
    "          y_test=y_test\n",
    "         )"
   ]
  },
  {
   "cell_type": "markdown",
   "id": "5010e03a",
   "metadata": {},
   "source": [
    "Let's fit this four models i.e. **RandomForest**, **Catboost**, **XGB**, **GradientBoosting** and then evaluate on various metrics"
   ]
  },
  {
   "cell_type": "markdown",
   "id": "ba7fb9a4",
   "metadata": {},
   "source": [
    "#### Performing Cross Validation "
   ]
  },
  {
   "cell_type": "code",
   "execution_count": 79,
   "id": "d4f5cdab",
   "metadata": {},
   "outputs": [],
   "source": [
    "import warnings\n",
    "warnings.filterwarnings(\"ignore\")"
   ]
  },
  {
   "cell_type": "code",
   "execution_count": 83,
   "id": "9fc09e19",
   "metadata": {},
   "outputs": [
    {
     "data": {
      "text/plain": [
       "0.49930675909878686"
      ]
     },
     "execution_count": 83,
     "metadata": {},
     "output_type": "execute_result"
    }
   ],
   "source": [
    "#evaluating our RandomForest model on cross-validation dataset\n",
    "model_1 = RandomForestClassifier()\n",
    "model_1_acc = cross_val_score(model_1, X, y, cv=5, scoring='accuracy')\n",
    "model_1_acc.mean()"
   ]
  },
  {
   "cell_type": "code",
   "execution_count": 86,
   "id": "1b24a2d5",
   "metadata": {},
   "outputs": [
    {
     "data": {
      "text/plain": [
       "1.0"
      ]
     },
     "execution_count": 86,
     "metadata": {},
     "output_type": "execute_result"
    }
   ],
   "source": [
    "#evaluating our GradientBoosting model on cross-validation dataset\n",
    "model_2 = GradientBoostingClassifier()\n",
    "model_2_acc = cross_val_score(model_2, X, y, cv=5, scoring='accuracy')\n",
    "model_2_acc.mean()"
   ]
  },
  {
   "cell_type": "code",
   "execution_count": 88,
   "id": "43a954ef",
   "metadata": {},
   "outputs": [
    {
     "data": {
      "text/plain": [
       "1.0"
      ]
     },
     "execution_count": 88,
     "metadata": {},
     "output_type": "execute_result"
    }
   ],
   "source": [
    "#evaluating our CatBoost model on cross-validation dataset\n",
    "model_3 = CatBoostClassifier(silent=True)\n",
    "model_3_acc = cross_val_score(model_3, X, y, cv=5, scoring='accuracy')\n",
    "model_3_acc.mean()"
   ]
  },
  {
   "cell_type": "code",
   "execution_count": 90,
   "id": "e0087d2a",
   "metadata": {
    "scrolled": true
   },
   "outputs": [
    {
     "name": "stdout",
     "output_type": "stream",
     "text": [
      "[16:31:00] WARNING: C:/Users/Administrator/workspace/xgboost-win64_release_1.4.0/src/learner.cc:1095: Starting in XGBoost 1.3.0, the default evaluation metric used with the objective 'multi:softprob' was changed from 'merror' to 'mlogloss'. Explicitly set eval_metric if you'd like to restore the old behavior.\n",
      "[16:31:00] WARNING: C:/Users/Administrator/workspace/xgboost-win64_release_1.4.0/src/learner.cc:1095: Starting in XGBoost 1.3.0, the default evaluation metric used with the objective 'multi:softprob' was changed from 'merror' to 'mlogloss'. Explicitly set eval_metric if you'd like to restore the old behavior.\n",
      "[16:31:01] WARNING: C:/Users/Administrator/workspace/xgboost-win64_release_1.4.0/src/learner.cc:1095: Starting in XGBoost 1.3.0, the default evaluation metric used with the objective 'multi:softprob' was changed from 'merror' to 'mlogloss'. Explicitly set eval_metric if you'd like to restore the old behavior.\n",
      "[16:31:02] WARNING: C:/Users/Administrator/workspace/xgboost-win64_release_1.4.0/src/learner.cc:1095: Starting in XGBoost 1.3.0, the default evaluation metric used with the objective 'multi:softprob' was changed from 'merror' to 'mlogloss'. Explicitly set eval_metric if you'd like to restore the old behavior.\n",
      "[16:31:03] WARNING: C:/Users/Administrator/workspace/xgboost-win64_release_1.4.0/src/learner.cc:1095: Starting in XGBoost 1.3.0, the default evaluation metric used with the objective 'multi:softprob' was changed from 'merror' to 'mlogloss'. Explicitly set eval_metric if you'd like to restore the old behavior.\n"
     ]
    },
    {
     "data": {
      "text/plain": [
       "1.0"
      ]
     },
     "execution_count": 90,
     "metadata": {},
     "output_type": "execute_result"
    }
   ],
   "source": [
    "#evaluating our XGB model on cross-validation dataset\n",
    "model_4 = XGBClassifier()\n",
    "model_4_acc = cross_val_score(model_4, X, y, cv=5, scoring='accuracy')\n",
    "model_4_acc.mean()"
   ]
  },
  {
   "cell_type": "markdown",
   "id": "d2a3b66c",
   "metadata": {},
   "source": [
    "Now we will make predicitions on test data and evaluating precision and recall on all 3 models i.e. GradientBoosting, Catboost, XGB"
   ]
  },
  {
   "cell_type": "markdown",
   "id": "251802ff",
   "metadata": {},
   "source": [
    "But for making predicitons we need to fit the model first, we haven't done that yet."
   ]
  },
  {
   "cell_type": "markdown",
   "id": "eb27c44c",
   "metadata": {},
   "source": [
    "#### Predicting and getting Precision and recall"
   ]
  },
  {
   "cell_type": "code",
   "execution_count": 95,
   "id": "fa06b165",
   "metadata": {
    "scrolled": true
   },
   "outputs": [
    {
     "name": "stdout",
     "output_type": "stream",
     "text": [
      "Precison: 1.0\n",
      "Recall: 1.0\n"
     ]
    }
   ],
   "source": [
    "#GradientBoosting\n",
    "model_2 = GradientBoostingClassifier()\n",
    "model_2.fit(X_train, y_train)\n",
    "preds_2 = model_2.predict(X_test)\n",
    "precision_2 = precision_score(y_test, preds_2,average='micro')\n",
    "recall_2 = recall_score(y_test, preds_2, average='micro')\n",
    "print(f'Precison: {precision_2}')\n",
    "print(f'Recall: {recall_2}')"
   ]
  },
  {
   "cell_type": "code",
   "execution_count": 97,
   "id": "9a75c660",
   "metadata": {},
   "outputs": [
    {
     "name": "stdout",
     "output_type": "stream",
     "text": [
      "Precison: 1.0\n",
      "Recall: 1.0\n"
     ]
    }
   ],
   "source": [
    "#CatBoost\n",
    "model_3 = CatBoostClassifier(silent=True)\n",
    "model_3.fit(X_train, y_train)\n",
    "preds_3 = model_3.predict(X_test)\n",
    "precision_3 = precision_score(y_test, preds_3,average='micro')\n",
    "recall_3 = recall_score(y_test, preds_3, average='micro')\n",
    "print(f'Precison: {precision_3}')\n",
    "print(f'Recall: {recall_3}')"
   ]
  },
  {
   "cell_type": "code",
   "execution_count": 98,
   "id": "5081cc18",
   "metadata": {},
   "outputs": [
    {
     "name": "stdout",
     "output_type": "stream",
     "text": [
      "[16:45:06] WARNING: C:/Users/Administrator/workspace/xgboost-win64_release_1.4.0/src/learner.cc:1095: Starting in XGBoost 1.3.0, the default evaluation metric used with the objective 'multi:softprob' was changed from 'merror' to 'mlogloss'. Explicitly set eval_metric if you'd like to restore the old behavior.\n",
      "Precison: 1.0\n",
      "Recall: 1.0\n"
     ]
    }
   ],
   "source": [
    "#XGB\n",
    "model_4 = XGBClassifier()\n",
    "model_4.fit(X_train, y_train)\n",
    "preds_4 = model_4.predict(X_test)\n",
    "precision_4 = precision_score(y_test, preds_4,average='micro')\n",
    "recall_4 = recall_score(y_test, preds_4, average='micro')\n",
    "print(f'Precison: {precision_4}')\n",
    "print(f'Recall: {recall_4}')"
   ]
  },
  {
   "cell_type": "markdown",
   "id": "193bbed3",
   "metadata": {},
   "source": [
    "All the three models i.e. **GradientBoostingClassifier**, **CatBoostClassifier** and **XGBClassifier** performs same."
   ]
  },
  {
   "cell_type": "markdown",
   "id": "11fe4d60",
   "metadata": {},
   "source": [
    "#### Classification report"
   ]
  },
  {
   "cell_type": "code",
   "execution_count": 101,
   "id": "5ba3a1d0",
   "metadata": {},
   "outputs": [
    {
     "name": "stdout",
     "output_type": "stream",
     "text": [
      "CLASSIFICATION REPORT OF GRADIENT BOOSTING CLASSIFIER\n",
      "              precision    recall  f1-score   support\n",
      "\n",
      "         0.0       1.00      1.00      1.00        67\n",
      "         1.0       1.00      1.00      1.00        49\n",
      "         2.0       1.00      1.00      1.00        30\n",
      "         3.0       1.00      1.00      1.00        33\n",
      "         4.0       1.00      1.00      1.00        25\n",
      "         5.0       1.00      1.00      1.00        35\n",
      "         6.0       1.00      1.00      1.00        88\n",
      "         7.0       1.00      1.00      1.00        66\n",
      "         8.0       1.00      1.00      1.00        69\n",
      "         9.0       1.00      1.00      1.00        82\n",
      "        10.0       1.00      1.00      1.00        26\n",
      "        11.0       1.00      1.00      1.00        86\n",
      "        12.0       1.00      1.00      1.00        46\n",
      "        13.0       1.00      1.00      1.00        43\n",
      "        14.0       1.00      1.00      1.00       125\n",
      "        15.0       1.00      1.00      1.00        23\n",
      "        16.0       1.00      1.00      1.00        50\n",
      "        17.0       1.00      1.00      1.00       108\n",
      "        18.0       1.00      1.00      1.00       103\n",
      "\n",
      "    accuracy                           1.00      1154\n",
      "   macro avg       1.00      1.00      1.00      1154\n",
      "weighted avg       1.00      1.00      1.00      1154\n",
      "\n"
     ]
    }
   ],
   "source": [
    "print(\"CLASSIFICATION REPORT OF GRADIENT BOOSTING CLASSIFIER\")\n",
    "print(classification_report(y_test,preds_2))"
   ]
  },
  {
   "cell_type": "code",
   "execution_count": 103,
   "id": "3294577c",
   "metadata": {},
   "outputs": [
    {
     "name": "stdout",
     "output_type": "stream",
     "text": [
      "CLASSIFICATION REPORT OF CATBOOST CLASSIFIER\n",
      "              precision    recall  f1-score   support\n",
      "\n",
      "         0.0       1.00      1.00      1.00        67\n",
      "         1.0       1.00      1.00      1.00        49\n",
      "         2.0       1.00      1.00      1.00        30\n",
      "         3.0       1.00      1.00      1.00        33\n",
      "         4.0       1.00      1.00      1.00        25\n",
      "         5.0       1.00      1.00      1.00        35\n",
      "         6.0       1.00      1.00      1.00        88\n",
      "         7.0       1.00      1.00      1.00        66\n",
      "         8.0       1.00      1.00      1.00        69\n",
      "         9.0       1.00      1.00      1.00        82\n",
      "        10.0       1.00      1.00      1.00        26\n",
      "        11.0       1.00      1.00      1.00        86\n",
      "        12.0       1.00      1.00      1.00        46\n",
      "        13.0       1.00      1.00      1.00        43\n",
      "        14.0       1.00      1.00      1.00       125\n",
      "        15.0       1.00      1.00      1.00        23\n",
      "        16.0       1.00      1.00      1.00        50\n",
      "        17.0       1.00      1.00      1.00       108\n",
      "        18.0       1.00      1.00      1.00       103\n",
      "\n",
      "    accuracy                           1.00      1154\n",
      "   macro avg       1.00      1.00      1.00      1154\n",
      "weighted avg       1.00      1.00      1.00      1154\n",
      "\n"
     ]
    }
   ],
   "source": [
    "print(\"CLASSIFICATION REPORT OF CATBOOST CLASSIFIER\")\n",
    "print(classification_report(y_test,preds_3))"
   ]
  },
  {
   "cell_type": "code",
   "execution_count": 104,
   "id": "7d7b07ee",
   "metadata": {},
   "outputs": [
    {
     "name": "stdout",
     "output_type": "stream",
     "text": [
      "CLASSIFICATION REPORT OF XGB CLASSIFIER\n",
      "              precision    recall  f1-score   support\n",
      "\n",
      "         0.0       1.00      1.00      1.00        67\n",
      "         1.0       1.00      1.00      1.00        49\n",
      "         2.0       1.00      1.00      1.00        30\n",
      "         3.0       1.00      1.00      1.00        33\n",
      "         4.0       1.00      1.00      1.00        25\n",
      "         5.0       1.00      1.00      1.00        35\n",
      "         6.0       1.00      1.00      1.00        88\n",
      "         7.0       1.00      1.00      1.00        66\n",
      "         8.0       1.00      1.00      1.00        69\n",
      "         9.0       1.00      1.00      1.00        82\n",
      "        10.0       1.00      1.00      1.00        26\n",
      "        11.0       1.00      1.00      1.00        86\n",
      "        12.0       1.00      1.00      1.00        46\n",
      "        13.0       1.00      1.00      1.00        43\n",
      "        14.0       1.00      1.00      1.00       125\n",
      "        15.0       1.00      1.00      1.00        23\n",
      "        16.0       1.00      1.00      1.00        50\n",
      "        17.0       1.00      1.00      1.00       108\n",
      "        18.0       1.00      1.00      1.00       103\n",
      "\n",
      "    accuracy                           1.00      1154\n",
      "   macro avg       1.00      1.00      1.00      1154\n",
      "weighted avg       1.00      1.00      1.00      1154\n",
      "\n"
     ]
    }
   ],
   "source": [
    "print(\"CLASSIFICATION REPORT OF XGB CLASSIFIER\")\n",
    "print(classification_report(y_test,preds_4))"
   ]
  },
  {
   "cell_type": "markdown",
   "id": "b1adf909",
   "metadata": {},
   "source": [
    "#### Feature Importance"
   ]
  },
  {
   "cell_type": "code",
   "execution_count": 127,
   "id": "cf03a9f2",
   "metadata": {},
   "outputs": [],
   "source": [
    "importances = model_2.feature_importances_"
   ]
  },
  {
   "cell_type": "code",
   "execution_count": 128,
   "id": "142704bd",
   "metadata": {},
   "outputs": [],
   "source": [
    "imp = pd.DataFrame(index=categorical_features)\n",
    "imp['Importance'] = importances"
   ]
  },
  {
   "cell_type": "code",
   "execution_count": 129,
   "id": "fa8f7a1b",
   "metadata": {},
   "outputs": [
    {
     "data": {
      "text/html": [
       "<div>\n",
       "<style scoped>\n",
       "    .dataframe tbody tr th:only-of-type {\n",
       "        vertical-align: middle;\n",
       "    }\n",
       "\n",
       "    .dataframe tbody tr th {\n",
       "        vertical-align: top;\n",
       "    }\n",
       "\n",
       "    .dataframe thead th {\n",
       "        text-align: right;\n",
       "    }\n",
       "</style>\n",
       "<table border=\"1\" class=\"dataframe\">\n",
       "  <thead>\n",
       "    <tr style=\"text-align: right;\">\n",
       "      <th></th>\n",
       "      <th>Importance</th>\n",
       "    </tr>\n",
       "  </thead>\n",
       "  <tbody>\n",
       "    <tr>\n",
       "      <th>City</th>\n",
       "      <td>1.000000e+00</td>\n",
       "    </tr>\n",
       "    <tr>\n",
       "      <th>Sport</th>\n",
       "      <td>4.461742e-21</td>\n",
       "    </tr>\n",
       "    <tr>\n",
       "      <th>Discipline</th>\n",
       "      <td>2.527410e-17</td>\n",
       "    </tr>\n",
       "    <tr>\n",
       "      <th>Athlete</th>\n",
       "      <td>6.115285e-15</td>\n",
       "    </tr>\n",
       "    <tr>\n",
       "      <th>Country</th>\n",
       "      <td>2.011226e-17</td>\n",
       "    </tr>\n",
       "    <tr>\n",
       "      <th>Gender</th>\n",
       "      <td>8.503604e-17</td>\n",
       "    </tr>\n",
       "    <tr>\n",
       "      <th>Event</th>\n",
       "      <td>3.655671e-17</td>\n",
       "    </tr>\n",
       "    <tr>\n",
       "      <th>Medal</th>\n",
       "      <td>-1.452550e-17</td>\n",
       "    </tr>\n",
       "  </tbody>\n",
       "</table>\n",
       "</div>"
      ],
      "text/plain": [
       "              Importance\n",
       "City        1.000000e+00\n",
       "Sport       4.461742e-21\n",
       "Discipline  2.527410e-17\n",
       "Athlete     6.115285e-15\n",
       "Country     2.011226e-17\n",
       "Gender      8.503604e-17\n",
       "Event       3.655671e-17\n",
       "Medal      -1.452550e-17"
      ]
     },
     "execution_count": 129,
     "metadata": {},
     "output_type": "execute_result"
    }
   ],
   "source": [
    "imp"
   ]
  }
 ],
 "metadata": {
  "kernelspec": {
   "display_name": "Python 3 (ipykernel)",
   "language": "python",
   "name": "python3"
  },
  "language_info": {
   "codemirror_mode": {
    "name": "ipython",
    "version": 3
   },
   "file_extension": ".py",
   "mimetype": "text/x-python",
   "name": "python",
   "nbconvert_exporter": "python",
   "pygments_lexer": "ipython3",
   "version": "3.8.5"
  }
 },
 "nbformat": 4,
 "nbformat_minor": 5
}
