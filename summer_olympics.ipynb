{
 "cells": [
  {
   "cell_type": "markdown",
   "id": "b5e2b568",
   "metadata": {},
   "source": [
    "# Hamoye Capstone project - Winter Olympics"
   ]
  },
  {
   "cell_type": "markdown",
   "id": "83c66128",
   "metadata": {},
   "source": [
    "## By Sumit Redekar"
   ]
  },
  {
   "cell_type": "markdown",
   "id": "53212dd0",
   "metadata": {},
   "source": [
    "### 1. Problem Statement\n",
    "To predict cities that are likely to win medals (Gold, Silver, Bronze). "
   ]
  },
  {
   "cell_type": "markdown",
   "id": "ee97c51e",
   "metadata": {},
   "source": [
    "### 2. Dataset \n",
    "Dataset taken from **Kaggle** - https://www.kaggle.com/the-guardian/olympic-games"
   ]
  },
  {
   "cell_type": "markdown",
   "id": "e20b98ab",
   "metadata": {},
   "source": [
    "### 3. Evaluation\n",
    "Metrics used to evaluate the model performance are: accuracy, precision and f1 score."
   ]
  },
  {
   "cell_type": "markdown",
   "id": "7048cfef",
   "metadata": {},
   "source": [
    "### Getting Started\n"
   ]
  },
  {
   "cell_type": "code",
   "execution_count": 20,
   "id": "69894202",
   "metadata": {},
   "outputs": [],
   "source": [
    "#importing libraries\n",
    "import numpy as np\n",
    "import pandas as pd\n",
    "import matplotlib.pyplot as plt\n",
    "import seaborn as sns\n",
    "%matplotlib inline"
   ]
  },
  {
   "cell_type": "code",
   "execution_count": 21,
   "id": "3c8e6278",
   "metadata": {},
   "outputs": [],
   "source": [
    "data = pd.read_csv('summer.csv')"
   ]
  },
  {
   "cell_type": "code",
   "execution_count": 22,
   "id": "60226b22",
   "metadata": {},
   "outputs": [
    {
     "data": {
      "text/html": [
       "<div>\n",
       "<style scoped>\n",
       "    .dataframe tbody tr th:only-of-type {\n",
       "        vertical-align: middle;\n",
       "    }\n",
       "\n",
       "    .dataframe tbody tr th {\n",
       "        vertical-align: top;\n",
       "    }\n",
       "\n",
       "    .dataframe thead th {\n",
       "        text-align: right;\n",
       "    }\n",
       "</style>\n",
       "<table border=\"1\" class=\"dataframe\">\n",
       "  <thead>\n",
       "    <tr style=\"text-align: right;\">\n",
       "      <th></th>\n",
       "      <th>Year</th>\n",
       "      <th>City</th>\n",
       "      <th>Sport</th>\n",
       "      <th>Discipline</th>\n",
       "      <th>Athlete</th>\n",
       "      <th>Country</th>\n",
       "      <th>Gender</th>\n",
       "      <th>Event</th>\n",
       "      <th>Medal</th>\n",
       "    </tr>\n",
       "  </thead>\n",
       "  <tbody>\n",
       "    <tr>\n",
       "      <th>0</th>\n",
       "      <td>1896</td>\n",
       "      <td>Athens</td>\n",
       "      <td>Aquatics</td>\n",
       "      <td>Swimming</td>\n",
       "      <td>HAJOS, Alfred</td>\n",
       "      <td>HUN</td>\n",
       "      <td>Men</td>\n",
       "      <td>100M Freestyle</td>\n",
       "      <td>Gold</td>\n",
       "    </tr>\n",
       "    <tr>\n",
       "      <th>1</th>\n",
       "      <td>1896</td>\n",
       "      <td>Athens</td>\n",
       "      <td>Aquatics</td>\n",
       "      <td>Swimming</td>\n",
       "      <td>HERSCHMANN, Otto</td>\n",
       "      <td>AUT</td>\n",
       "      <td>Men</td>\n",
       "      <td>100M Freestyle</td>\n",
       "      <td>Silver</td>\n",
       "    </tr>\n",
       "    <tr>\n",
       "      <th>2</th>\n",
       "      <td>1896</td>\n",
       "      <td>Athens</td>\n",
       "      <td>Aquatics</td>\n",
       "      <td>Swimming</td>\n",
       "      <td>DRIVAS, Dimitrios</td>\n",
       "      <td>GRE</td>\n",
       "      <td>Men</td>\n",
       "      <td>100M Freestyle For Sailors</td>\n",
       "      <td>Bronze</td>\n",
       "    </tr>\n",
       "    <tr>\n",
       "      <th>3</th>\n",
       "      <td>1896</td>\n",
       "      <td>Athens</td>\n",
       "      <td>Aquatics</td>\n",
       "      <td>Swimming</td>\n",
       "      <td>MALOKINIS, Ioannis</td>\n",
       "      <td>GRE</td>\n",
       "      <td>Men</td>\n",
       "      <td>100M Freestyle For Sailors</td>\n",
       "      <td>Gold</td>\n",
       "    </tr>\n",
       "    <tr>\n",
       "      <th>4</th>\n",
       "      <td>1896</td>\n",
       "      <td>Athens</td>\n",
       "      <td>Aquatics</td>\n",
       "      <td>Swimming</td>\n",
       "      <td>CHASAPIS, Spiridon</td>\n",
       "      <td>GRE</td>\n",
       "      <td>Men</td>\n",
       "      <td>100M Freestyle For Sailors</td>\n",
       "      <td>Silver</td>\n",
       "    </tr>\n",
       "  </tbody>\n",
       "</table>\n",
       "</div>"
      ],
      "text/plain": [
       "   Year    City     Sport Discipline             Athlete Country Gender  \\\n",
       "0  1896  Athens  Aquatics   Swimming       HAJOS, Alfred     HUN    Men   \n",
       "1  1896  Athens  Aquatics   Swimming    HERSCHMANN, Otto     AUT    Men   \n",
       "2  1896  Athens  Aquatics   Swimming   DRIVAS, Dimitrios     GRE    Men   \n",
       "3  1896  Athens  Aquatics   Swimming  MALOKINIS, Ioannis     GRE    Men   \n",
       "4  1896  Athens  Aquatics   Swimming  CHASAPIS, Spiridon     GRE    Men   \n",
       "\n",
       "                        Event   Medal  \n",
       "0              100M Freestyle    Gold  \n",
       "1              100M Freestyle  Silver  \n",
       "2  100M Freestyle For Sailors  Bronze  \n",
       "3  100M Freestyle For Sailors    Gold  \n",
       "4  100M Freestyle For Sailors  Silver  "
      ]
     },
     "execution_count": 22,
     "metadata": {},
     "output_type": "execute_result"
    }
   ],
   "source": [
    "data.head()"
   ]
  },
  {
   "cell_type": "markdown",
   "id": "9a8ce54c",
   "metadata": {},
   "source": [
    "### Exploratory Data Analysis"
   ]
  },
  {
   "cell_type": "code",
   "execution_count": 23,
   "id": "1ff7b6a7",
   "metadata": {},
   "outputs": [
    {
     "name": "stdout",
     "output_type": "stream",
     "text": [
      "<class 'pandas.core.frame.DataFrame'>\n",
      "RangeIndex: 31165 entries, 0 to 31164\n",
      "Data columns (total 9 columns):\n",
      " #   Column      Non-Null Count  Dtype \n",
      "---  ------      --------------  ----- \n",
      " 0   Year        31165 non-null  int64 \n",
      " 1   City        31165 non-null  object\n",
      " 2   Sport       31165 non-null  object\n",
      " 3   Discipline  31165 non-null  object\n",
      " 4   Athlete     31165 non-null  object\n",
      " 5   Country     31161 non-null  object\n",
      " 6   Gender      31165 non-null  object\n",
      " 7   Event       31165 non-null  object\n",
      " 8   Medal       31165 non-null  object\n",
      "dtypes: int64(1), object(8)\n",
      "memory usage: 2.1+ MB\n"
     ]
    }
   ],
   "source": [
    "data.info()"
   ]
  },
  {
   "cell_type": "code",
   "execution_count": 24,
   "id": "1c2eefa3",
   "metadata": {},
   "outputs": [
    {
     "data": {
      "text/html": [
       "<div>\n",
       "<style scoped>\n",
       "    .dataframe tbody tr th:only-of-type {\n",
       "        vertical-align: middle;\n",
       "    }\n",
       "\n",
       "    .dataframe tbody tr th {\n",
       "        vertical-align: top;\n",
       "    }\n",
       "\n",
       "    .dataframe thead th {\n",
       "        text-align: right;\n",
       "    }\n",
       "</style>\n",
       "<table border=\"1\" class=\"dataframe\">\n",
       "  <thead>\n",
       "    <tr style=\"text-align: right;\">\n",
       "      <th></th>\n",
       "      <th>Year</th>\n",
       "    </tr>\n",
       "  </thead>\n",
       "  <tbody>\n",
       "    <tr>\n",
       "      <th>count</th>\n",
       "      <td>31165.000000</td>\n",
       "    </tr>\n",
       "    <tr>\n",
       "      <th>mean</th>\n",
       "      <td>1970.482785</td>\n",
       "    </tr>\n",
       "    <tr>\n",
       "      <th>std</th>\n",
       "      <td>33.158416</td>\n",
       "    </tr>\n",
       "    <tr>\n",
       "      <th>min</th>\n",
       "      <td>1896.000000</td>\n",
       "    </tr>\n",
       "    <tr>\n",
       "      <th>25%</th>\n",
       "      <td>1948.000000</td>\n",
       "    </tr>\n",
       "    <tr>\n",
       "      <th>50%</th>\n",
       "      <td>1980.000000</td>\n",
       "    </tr>\n",
       "    <tr>\n",
       "      <th>75%</th>\n",
       "      <td>2000.000000</td>\n",
       "    </tr>\n",
       "    <tr>\n",
       "      <th>max</th>\n",
       "      <td>2012.000000</td>\n",
       "    </tr>\n",
       "  </tbody>\n",
       "</table>\n",
       "</div>"
      ],
      "text/plain": [
       "               Year\n",
       "count  31165.000000\n",
       "mean    1970.482785\n",
       "std       33.158416\n",
       "min     1896.000000\n",
       "25%     1948.000000\n",
       "50%     1980.000000\n",
       "75%     2000.000000\n",
       "max     2012.000000"
      ]
     },
     "execution_count": 24,
     "metadata": {},
     "output_type": "execute_result"
    }
   ],
   "source": [
    "data.describe()"
   ]
  },
  {
   "cell_type": "code",
   "execution_count": 25,
   "id": "694059a3",
   "metadata": {},
   "outputs": [
    {
     "data": {
      "image/png": "[encoded data removed]",
      "text/plain": [
       "<Figure size 432x288 with 1 Axes>"
      ]
     },
     "metadata": {
      "needs_background": "light"
     },
     "output_type": "display_data"
    }
   ],
   "source": [
    "data.plot(kind='hist');"
   ]
  },
  {
   "cell_type": "markdown",
   "id": "1263915f",
   "metadata": {},
   "source": [
    "#### Missing Values"
   ]
  },
  {
   "cell_type": "code",
   "execution_count": 26,
   "id": "94513c1a",
   "metadata": {},
   "outputs": [
    {
     "data": {
      "text/plain": [
       "Year          0\n",
       "City          0\n",
       "Sport         0\n",
       "Discipline    0\n",
       "Athlete       0\n",
       "Country       4\n",
       "Gender        0\n",
       "Event         0\n",
       "Medal         0\n",
       "dtype: int64"
      ]
     },
     "execution_count": 26,
     "metadata": {},
     "output_type": "execute_result"
    }
   ],
   "source": [
    "data.isnull().sum()"
   ]
  },
  {
   "cell_type": "markdown",
   "id": "905f4a5c",
   "metadata": {},
   "source": [
    "Our data does not contain any large number of missing values so for this we will simply drop the missing values"
   ]
  },
  {
   "cell_type": "code",
   "execution_count": 27,
   "id": "93689e85",
   "metadata": {},
   "outputs": [],
   "source": [
    "data.dropna(inplace=True)"
   ]
  },
  {
   "cell_type": "code",
   "execution_count": 28,
   "id": "1f33532b",
   "metadata": {},
   "outputs": [
    {
     "data": {
      "text/plain": [
       "Year          0\n",
       "City          0\n",
       "Sport         0\n",
       "Discipline    0\n",
       "Athlete       0\n",
       "Country       0\n",
       "Gender        0\n",
       "Event         0\n",
       "Medal         0\n",
       "dtype: int64"
      ]
     },
     "execution_count": 28,
     "metadata": {},
     "output_type": "execute_result"
    }
   ],
   "source": [
    "data.isnull().sum()"
   ]
  },
  {
   "cell_type": "code",
   "execution_count": 29,
   "id": "763e795c",
   "metadata": {},
   "outputs": [
    {
     "name": "stdout",
     "output_type": "stream",
     "text": [
      "<class 'pandas.core.frame.DataFrame'>\n",
      "Int64Index: 31161 entries, 0 to 31164\n",
      "Data columns (total 9 columns):\n",
      " #   Column      Non-Null Count  Dtype \n",
      "---  ------      --------------  ----- \n",
      " 0   Year        31161 non-null  int64 \n",
      " 1   City        31161 non-null  object\n",
      " 2   Sport       31161 non-null  object\n",
      " 3   Discipline  31161 non-null  object\n",
      " 4   Athlete     31161 non-null  object\n",
      " 5   Country     31161 non-null  object\n",
      " 6   Gender      31161 non-null  object\n",
      " 7   Event       31161 non-null  object\n",
      " 8   Medal       31161 non-null  object\n",
      "dtypes: int64(1), object(8)\n",
      "memory usage: 2.4+ MB\n"
     ]
    }
   ],
   "source": [
    "data.info()"
   ]
  },
  {
   "cell_type": "markdown",
   "id": "689f66cf",
   "metadata": {},
   "source": [
    "#### Converting categorical features into numeric features with Ordinal Encoding"
   ]
  },
  {
   "cell_type": "code",
   "execution_count": 30,
   "id": "cc84638d",
   "metadata": {},
   "outputs": [],
   "source": [
    "from sklearn.preprocessing import OrdinalEncoder\n",
    "from sklearn.compose import ColumnTransformer"
   ]
  },
  {
   "cell_type": "code",
   "execution_count": 31,
   "id": "dccd6fae",
   "metadata": {},
   "outputs": [],
   "source": [
    "#copy of og data\n",
    "data_tmp = data.copy()"
   ]
  },
  {
   "cell_type": "code",
   "execution_count": 32,
   "id": "83c8abba",
   "metadata": {},
   "outputs": [
    {
     "data": {
      "text/plain": [
       "Index(['Year', 'City', 'Sport', 'Discipline', 'Athlete', 'Country', 'Gender',\n",
       "       'Event', 'Medal'],\n",
       "      dtype='object')"
      ]
     },
     "execution_count": 32,
     "metadata": {},
     "output_type": "execute_result"
    }
   ],
   "source": [
    "data.columns"
   ]
  },
  {
   "cell_type": "code",
   "execution_count": 33,
   "id": "daaddae8",
   "metadata": {},
   "outputs": [],
   "source": [
    "categorical_features = ['City', 'Sport', 'Discipline', 'Athlete', 'Country', 'Gender','Event', 'Medal']\n",
    "ordinal = OrdinalEncoder()\n",
    "data_tmp[categorical_features] = ordinal.fit_transform(data[categorical_features])"
   ]
  },
  {
   "cell_type": "code",
   "execution_count": 34,
   "id": "359a0573",
   "metadata": {},
   "outputs": [
    {
     "data": {
      "text/html": [
       "<div>\n",
       "<style scoped>\n",
       "    .dataframe tbody tr th:only-of-type {\n",
       "        vertical-align: middle;\n",
       "    }\n",
       "\n",
       "    .dataframe tbody tr th {\n",
       "        vertical-align: top;\n",
       "    }\n",
       "\n",
       "    .dataframe thead th {\n",
       "        text-align: right;\n",
       "    }\n",
       "</style>\n",
       "<table border=\"1\" class=\"dataframe\">\n",
       "  <thead>\n",
       "    <tr style=\"text-align: right;\">\n",
       "      <th></th>\n",
       "      <th>Year</th>\n",
       "      <th>City</th>\n",
       "      <th>Sport</th>\n",
       "      <th>Discipline</th>\n",
       "      <th>Athlete</th>\n",
       "      <th>Country</th>\n",
       "      <th>Gender</th>\n",
       "      <th>Event</th>\n",
       "      <th>Medal</th>\n",
       "    </tr>\n",
       "  </thead>\n",
       "  <tbody>\n",
       "    <tr>\n",
       "      <th>0</th>\n",
       "      <td>1896</td>\n",
       "      <td>2.0</td>\n",
       "      <td>0.0</td>\n",
       "      <td>49.0</td>\n",
       "      <td>7409.0</td>\n",
       "      <td>58.0</td>\n",
       "      <td>0.0</td>\n",
       "      <td>78.0</td>\n",
       "      <td>1.0</td>\n",
       "    </tr>\n",
       "    <tr>\n",
       "      <th>1</th>\n",
       "      <td>1896</td>\n",
       "      <td>2.0</td>\n",
       "      <td>0.0</td>\n",
       "      <td>49.0</td>\n",
       "      <td>8014.0</td>\n",
       "      <td>7.0</td>\n",
       "      <td>0.0</td>\n",
       "      <td>78.0</td>\n",
       "      <td>2.0</td>\n",
       "    </tr>\n",
       "    <tr>\n",
       "      <th>2</th>\n",
       "      <td>1896</td>\n",
       "      <td>2.0</td>\n",
       "      <td>0.0</td>\n",
       "      <td>49.0</td>\n",
       "      <td>4883.0</td>\n",
       "      <td>52.0</td>\n",
       "      <td>0.0</td>\n",
       "      <td>79.0</td>\n",
       "      <td>0.0</td>\n",
       "    </tr>\n",
       "    <tr>\n",
       "      <th>3</th>\n",
       "      <td>1896</td>\n",
       "      <td>2.0</td>\n",
       "      <td>0.0</td>\n",
       "      <td>49.0</td>\n",
       "      <td>12434.0</td>\n",
       "      <td>52.0</td>\n",
       "      <td>0.0</td>\n",
       "      <td>79.0</td>\n",
       "      <td>1.0</td>\n",
       "    </tr>\n",
       "    <tr>\n",
       "      <th>4</th>\n",
       "      <td>1896</td>\n",
       "      <td>2.0</td>\n",
       "      <td>0.0</td>\n",
       "      <td>49.0</td>\n",
       "      <td>3155.0</td>\n",
       "      <td>52.0</td>\n",
       "      <td>0.0</td>\n",
       "      <td>79.0</td>\n",
       "      <td>2.0</td>\n",
       "    </tr>\n",
       "    <tr>\n",
       "      <th>...</th>\n",
       "      <td>...</td>\n",
       "      <td>...</td>\n",
       "      <td>...</td>\n",
       "      <td>...</td>\n",
       "      <td>...</td>\n",
       "      <td>...</td>\n",
       "      <td>...</td>\n",
       "      <td>...</td>\n",
       "      <td>...</td>\n",
       "    </tr>\n",
       "    <tr>\n",
       "      <th>31160</th>\n",
       "      <td>2012</td>\n",
       "      <td>8.0</td>\n",
       "      <td>42.0</td>\n",
       "      <td>65.0</td>\n",
       "      <td>8908.0</td>\n",
       "      <td>101.0</td>\n",
       "      <td>0.0</td>\n",
       "      <td>658.0</td>\n",
       "      <td>0.0</td>\n",
       "    </tr>\n",
       "    <tr>\n",
       "      <th>31161</th>\n",
       "      <td>2012</td>\n",
       "      <td>8.0</td>\n",
       "      <td>42.0</td>\n",
       "      <td>65.0</td>\n",
       "      <td>16612.0</td>\n",
       "      <td>62.0</td>\n",
       "      <td>0.0</td>\n",
       "      <td>659.0</td>\n",
       "      <td>1.0</td>\n",
       "    </tr>\n",
       "    <tr>\n",
       "      <th>31162</th>\n",
       "      <td>2012</td>\n",
       "      <td>8.0</td>\n",
       "      <td>42.0</td>\n",
       "      <td>65.0</td>\n",
       "      <td>20258.0</td>\n",
       "      <td>109.0</td>\n",
       "      <td>0.0</td>\n",
       "      <td>659.0</td>\n",
       "      <td>2.0</td>\n",
       "    </tr>\n",
       "    <tr>\n",
       "      <th>31163</th>\n",
       "      <td>2012</td>\n",
       "      <td>8.0</td>\n",
       "      <td>42.0</td>\n",
       "      <td>65.0</td>\n",
       "      <td>264.0</td>\n",
       "      <td>5.0</td>\n",
       "      <td>0.0</td>\n",
       "      <td>659.0</td>\n",
       "      <td>0.0</td>\n",
       "    </tr>\n",
       "    <tr>\n",
       "      <th>31164</th>\n",
       "      <td>2012</td>\n",
       "      <td>8.0</td>\n",
       "      <td>42.0</td>\n",
       "      <td>65.0</td>\n",
       "      <td>11640.0</td>\n",
       "      <td>121.0</td>\n",
       "      <td>0.0</td>\n",
       "      <td>659.0</td>\n",
       "      <td>0.0</td>\n",
       "    </tr>\n",
       "  </tbody>\n",
       "</table>\n",
       "<p>31161 rows × 9 columns</p>\n",
       "</div>"
      ],
      "text/plain": [
       "       Year  City  Sport  Discipline  Athlete  Country  Gender  Event  Medal\n",
       "0      1896   2.0    0.0        49.0   7409.0     58.0     0.0   78.0    1.0\n",
       "1      1896   2.0    0.0        49.0   8014.0      7.0     0.0   78.0    2.0\n",
       "2      1896   2.0    0.0        49.0   4883.0     52.0     0.0   79.0    0.0\n",
       "3      1896   2.0    0.0        49.0  12434.0     52.0     0.0   79.0    1.0\n",
       "4      1896   2.0    0.0        49.0   3155.0     52.0     0.0   79.0    2.0\n",
       "...     ...   ...    ...         ...      ...      ...     ...    ...    ...\n",
       "31160  2012   8.0   42.0        65.0   8908.0    101.0     0.0  658.0    0.0\n",
       "31161  2012   8.0   42.0        65.0  16612.0     62.0     0.0  659.0    1.0\n",
       "31162  2012   8.0   42.0        65.0  20258.0    109.0     0.0  659.0    2.0\n",
       "31163  2012   8.0   42.0        65.0    264.0      5.0     0.0  659.0    0.0\n",
       "31164  2012   8.0   42.0        65.0  11640.0    121.0     0.0  659.0    0.0\n",
       "\n",
       "[31161 rows x 9 columns]"
      ]
     },
     "execution_count": 34,
     "metadata": {},
     "output_type": "execute_result"
    }
   ],
   "source": [
    "data_tmp"
   ]
  },
  {
   "cell_type": "code",
   "execution_count": 35,
   "id": "224fc67f",
   "metadata": {},
   "outputs": [
    {
     "name": "stdout",
     "output_type": "stream",
     "text": [
      "<class 'pandas.core.frame.DataFrame'>\n",
      "Int64Index: 31161 entries, 0 to 31164\n",
      "Data columns (total 9 columns):\n",
      " #   Column      Non-Null Count  Dtype  \n",
      "---  ------      --------------  -----  \n",
      " 0   Year        31161 non-null  int64  \n",
      " 1   City        31161 non-null  float64\n",
      " 2   Sport       31161 non-null  float64\n",
      " 3   Discipline  31161 non-null  float64\n",
      " 4   Athlete     31161 non-null  float64\n",
      " 5   Country     31161 non-null  float64\n",
      " 6   Gender      31161 non-null  float64\n",
      " 7   Event       31161 non-null  float64\n",
      " 8   Medal       31161 non-null  float64\n",
      "dtypes: float64(8), int64(1)\n",
      "memory usage: 2.4 MB\n"
     ]
    }
   ],
   "source": [
    "data_tmp.info()\n"
   ]
  },
  {
   "cell_type": "code",
   "execution_count": 36,
   "id": "3d812118",
   "metadata": {},
   "outputs": [
    {
     "data": {
      "text/plain": [
       "Year          0\n",
       "City          0\n",
       "Sport         0\n",
       "Discipline    0\n",
       "Athlete       0\n",
       "Country       0\n",
       "Gender        0\n",
       "Event         0\n",
       "Medal         0\n",
       "dtype: int64"
      ]
     },
     "execution_count": 36,
     "metadata": {},
     "output_type": "execute_result"
    }
   ],
   "source": [
    "data_tmp.isnull().sum()"
   ]
  },
  {
   "cell_type": "markdown",
   "id": "595d615c",
   "metadata": {},
   "source": [
    "After converting all categorical features into numerical features our data is now ready for modeling"
   ]
  },
  {
   "cell_type": "markdown",
   "id": "2ff8bc3f",
   "metadata": {},
   "source": [
    "### Modeling"
   ]
  },
  {
   "cell_type": "code",
   "execution_count": 37,
   "id": "44fddd0d",
   "metadata": {},
   "outputs": [],
   "source": [
    "#getting our X and y\n",
    "X = data_tmp.drop('City',axis=1)\n",
    "y = data_tmp['City']"
   ]
  },
  {
   "cell_type": "code",
   "execution_count": 38,
   "id": "14858f47",
   "metadata": {},
   "outputs": [],
   "source": [
    "from  sklearn.model_selection import train_test_split\n",
    "\n",
    "#splitting X and y in training and testing data\n",
    "X_train, X_test, y_train, y_test = train_test_split(X, y, test_size=0.2, random_state=42)"
   ]
  },
  {
   "cell_type": "code",
   "execution_count": 39,
   "id": "07decbcf",
   "metadata": {},
   "outputs": [
    {
     "data": {
      "text/plain": [
       "((24928, 8), (24928,))"
      ]
     },
     "execution_count": 39,
     "metadata": {},
     "output_type": "execute_result"
    }
   ],
   "source": [
    "X_train.shape, y_train.shape"
   ]
  },
  {
   "cell_type": "code",
   "execution_count": 40,
   "id": "1a5343f7",
   "metadata": {},
   "outputs": [
    {
     "data": {
      "text/plain": [
       "((6233, 8), (6233,))"
      ]
     },
     "execution_count": 40,
     "metadata": {},
     "output_type": "execute_result"
    }
   ],
   "source": [
    "X_test.shape, y_test.shape"
   ]
  },
  {
   "cell_type": "code",
   "execution_count": 41,
   "id": "a7db4aa5",
   "metadata": {},
   "outputs": [],
   "source": [
    "#importing models\n",
    "from sklearn.linear_model import LogisticRegression\n",
    "from sklearn.ensemble import RandomForestClassifier, GradientBoostingClassifier, AdaBoostClassifier\n",
    "from sklearn.neighbors import KNeighborsClassifier\n",
    "from catboost import CatBoostClassifier\n",
    "from xgboost import XGBClassifier"
   ]
  },
  {
   "cell_type": "code",
   "execution_count": 42,
   "id": "1e315c2d",
   "metadata": {},
   "outputs": [],
   "source": [
    "#importing metrics \n",
    "from sklearn.model_selection import RandomizedSearchCV,GridSearchCV,cross_val_score\n",
    "from sklearn.metrics import classification_report,confusion_matrix\n",
    "from sklearn.metrics import precision_score,recall_score,f1_score\n",
    "from sklearn.metrics import plot_roc_curve"
   ]
  },
  {
   "cell_type": "code",
   "execution_count": 43,
   "id": "177c6cc0",
   "metadata": {},
   "outputs": [],
   "source": [
    "models = {\n",
    "    'Logistic': LogisticRegression(),\n",
    "    'RandomForest': RandomForestClassifier(),\n",
    "    'GradientBoosting': GradientBoostingClassifier(),\n",
    "    'Ada': AdaBoostClassifier(),\n",
    "    'KNeighbors': KNeighborsClassifier(),\n",
    "    'CatBoost': CatBoostClassifier(silent=True),\n",
    "    'XGB': XGBClassifier()\n",
    "}"
   ]
  },
  {
   "cell_type": "code",
   "execution_count": 44,
   "id": "6ebbd045",
   "metadata": {},
   "outputs": [],
   "source": [
    "def fit_score(models,X_train,X_test,y_train,y_test):\n",
    "    for name,model in models.items():\n",
    "        #fitting our model\n",
    "        model.fit(X_train,y_train)\n",
    "        print(f'Fitting {name} !!')\n",
    "        \n",
    "        #accuracy\n",
    "        score = model.score(X_test,y_test)\n",
    "        print(f'Accuracy of {name} is {score}.')"
   ]
  },
  {
   "cell_type": "code",
   "execution_count": 45,
   "id": "73f5a24d",
   "metadata": {},
   "outputs": [
    {
     "name": "stderr",
     "output_type": "stream",
     "text": [
      "C:\\Users\\6\\anaconda3\\lib\\site-packages\\sklearn\\linear_model\\_logistic.py:763: ConvergenceWarning: lbfgs failed to converge (status=1):\n",
      "STOP: TOTAL NO. of ITERATIONS REACHED LIMIT.\n",
      "\n",
      "Increase the number of iterations (max_iter) or scale the data as shown in:\n",
      "    https://scikit-learn.org/stable/modules/preprocessing.html\n",
      "Please also refer to the documentation for alternative solver options:\n",
      "    https://scikit-learn.org/stable/modules/linear_model.html#logistic-regression\n",
      "  n_iter_i = _check_optimize_result(\n"
     ]
    },
    {
     "name": "stdout",
     "output_type": "stream",
     "text": [
      "Fitting Logistic !!\n",
      "Accuracy of Logistic is 0.11005936146317985.\n",
      "Fitting RandomForest !!\n",
      "Accuracy of RandomForest is 0.9215466067704156.\n",
      "Fitting GradientBoosting !!\n",
      "Accuracy of GradientBoosting is 1.0.\n",
      "Fitting Ada !!\n",
      "Accuracy of Ada is 0.1997433017808439.\n",
      "Fitting KNeighbors !!\n",
      "Accuracy of KNeighbors is 0.1467992940798973.\n",
      "Fitting CatBoost !!\n",
      "Accuracy of CatBoost is 1.0.\n",
      "[17:20:17] WARNING: C:/Users/Administrator/workspace/xgboost-win64_release_1.4.0/src/learner.cc:1095: Starting in XGBoost 1.3.0, the default evaluation metric used with the objective 'multi:softprob' was changed from 'merror' to 'mlogloss'. Explicitly set eval_metric if you'd like to restore the old behavior.\n"
     ]
    },
    {
     "name": "stderr",
     "output_type": "stream",
     "text": [
      "C:\\Users\\6\\anaconda3\\lib\\site-packages\\xgboost\\sklearn.py:1146: UserWarning: The use of label encoder in XGBClassifier is deprecated and will be removed in a future release. To remove this warning, do the following: 1) Pass option use_label_encoder=False when constructing XGBClassifier object; and 2) Encode your labels (y) as integers starting with 0, i.e. 0, 1, 2, ..., [num_class - 1].\n",
      "  warnings.warn(label_encoder_deprecation_msg, UserWarning)\n"
     ]
    },
    {
     "name": "stdout",
     "output_type": "stream",
     "text": [
      "Fitting XGB !!\n",
      "Accuracy of XGB is 1.0.\n"
     ]
    }
   ],
   "source": [
    "fit_score(models=models,\n",
    "          X_train=X_train,\n",
    "          X_test=X_test,\n",
    "          y_train=y_train,\n",
    "          y_test=y_test\n",
    "         )"
   ]
  },
  {
   "cell_type": "markdown",
   "id": "488fe9b6",
   "metadata": {},
   "source": [
    "Let's fit this four models i.e. **RandomForest**, **Catboost**, **XGB**, **GradientBoosting** and then evaluate on various metrics"
   ]
  },
  {
   "cell_type": "markdown",
   "id": "27b1823b",
   "metadata": {},
   "source": [
    "#### Performing Cross Validation "
   ]
  },
  {
   "cell_type": "code",
   "execution_count": 46,
   "id": "481c7d5f",
   "metadata": {},
   "outputs": [],
   "source": [
    "import warnings\n",
    "warnings.filterwarnings(\"ignore\")"
   ]
  },
  {
   "cell_type": "code",
   "execution_count": 47,
   "id": "e4a63b2a",
   "metadata": {},
   "outputs": [
    {
     "data": {
      "text/plain": [
       "0.26591515057027"
      ]
     },
     "execution_count": 47,
     "metadata": {},
     "output_type": "execute_result"
    }
   ],
   "source": [
    "#evaluating our RandomForest model on cross-validation dataset\n",
    "model_1 = RandomForestClassifier()\n",
    "model_1_acc = cross_val_score(model_1, X, y, cv=5, scoring='accuracy')\n",
    "model_1_acc.mean()"
   ]
  },
  {
   "cell_type": "code",
   "execution_count": 48,
   "id": "b65efee3",
   "metadata": {},
   "outputs": [
    {
     "data": {
      "text/plain": [
       "0.9951548211134285"
      ]
     },
     "execution_count": 48,
     "metadata": {},
     "output_type": "execute_result"
    }
   ],
   "source": [
    "#evaluating our GradientBoosting model on cross-validation dataset\n",
    "model_2 = GradientBoostingClassifier()\n",
    "model_2_acc = cross_val_score(model_2, X, y, cv=5, scoring='accuracy')\n",
    "model_2_acc.mean()"
   ]
  },
  {
   "cell_type": "code",
   "execution_count": 49,
   "id": "cc48e66b",
   "metadata": {},
   "outputs": [
    {
     "data": {
      "text/plain": [
       "0.9951548211134285"
      ]
     },
     "execution_count": 49,
     "metadata": {},
     "output_type": "execute_result"
    }
   ],
   "source": [
    "#evaluating our CatBoost model on cross-validation dataset\n",
    "model_3 = CatBoostClassifier(silent=True)\n",
    "model_3_acc = cross_val_score(model_3, X, y, cv=5, scoring='accuracy')\n",
    "model_3_acc.mean()"
   ]
  },
  {
   "cell_type": "code",
   "execution_count": 50,
   "id": "9ab83c77",
   "metadata": {
    "scrolled": true
   },
   "outputs": [
    {
     "name": "stdout",
     "output_type": "stream",
     "text": [
      "[17:31:01] WARNING: C:/Users/Administrator/workspace/xgboost-win64_release_1.4.0/src/learner.cc:1095: Starting in XGBoost 1.3.0, the default evaluation metric used with the objective 'multi:softprob' was changed from 'merror' to 'mlogloss'. Explicitly set eval_metric if you'd like to restore the old behavior.\n",
      "[17:31:05] WARNING: C:/Users/Administrator/workspace/xgboost-win64_release_1.4.0/src/learner.cc:1095: Starting in XGBoost 1.3.0, the default evaluation metric used with the objective 'multi:softprob' was changed from 'merror' to 'mlogloss'. Explicitly set eval_metric if you'd like to restore the old behavior.\n",
      "[17:31:08] WARNING: C:/Users/Administrator/workspace/xgboost-win64_release_1.4.0/src/learner.cc:1095: Starting in XGBoost 1.3.0, the default evaluation metric used with the objective 'multi:softprob' was changed from 'merror' to 'mlogloss'. Explicitly set eval_metric if you'd like to restore the old behavior.\n",
      "[17:31:12] WARNING: C:/Users/Administrator/workspace/xgboost-win64_release_1.4.0/src/learner.cc:1095: Starting in XGBoost 1.3.0, the default evaluation metric used with the objective 'multi:softprob' was changed from 'merror' to 'mlogloss'. Explicitly set eval_metric if you'd like to restore the old behavior.\n",
      "[17:31:15] WARNING: C:/Users/Administrator/workspace/xgboost-win64_release_1.4.0/src/learner.cc:1095: Starting in XGBoost 1.3.0, the default evaluation metric used with the objective 'multi:softprob' was changed from 'merror' to 'mlogloss'. Explicitly set eval_metric if you'd like to restore the old behavior.\n"
     ]
    },
    {
     "data": {
      "text/plain": [
       "0.9725012032729022"
      ]
     },
     "execution_count": 50,
     "metadata": {},
     "output_type": "execute_result"
    }
   ],
   "source": [
    "#evaluating our XGB model on cross-validation dataset\n",
    "model_4 = XGBClassifier()\n",
    "model_4_acc = cross_val_score(model_4, X, y, cv=5, scoring='accuracy')\n",
    "model_4_acc.mean()"
   ]
  },
  {
   "cell_type": "markdown",
   "id": "5a7b4aaf",
   "metadata": {},
   "source": [
    "Now we will make predicitions on test data and evaluating precision and recall on all 3 models i.e. GradientBoosting, Catboost"
   ]
  },
  {
   "cell_type": "markdown",
   "id": "a586673a",
   "metadata": {},
   "source": [
    "But for making predicitons we need to fit the model first, we haven't done that yet."
   ]
  },
  {
   "cell_type": "markdown",
   "id": "dfe41d17",
   "metadata": {},
   "source": [
    "#### Predicting and getting Precision and recall"
   ]
  },
  {
   "cell_type": "code",
   "execution_count": 51,
   "id": "4329be0e",
   "metadata": {
    "scrolled": true
   },
   "outputs": [
    {
     "name": "stdout",
     "output_type": "stream",
     "text": [
      "Precison: 1.0\n",
      "Recall: 1.0\n"
     ]
    }
   ],
   "source": [
    "#GradientBoosting\n",
    "model_2 = GradientBoostingClassifier()\n",
    "model_2.fit(X_train, y_train)\n",
    "preds_2 = model_2.predict(X_test)\n",
    "precision_2 = precision_score(y_test, preds_2,average='micro')\n",
    "recall_2 = recall_score(y_test, preds_2, average='micro')\n",
    "print(f'Precison: {precision_2}')\n",
    "print(f'Recall: {recall_2}')"
   ]
  },
  {
   "cell_type": "code",
   "execution_count": 52,
   "id": "06a94b3d",
   "metadata": {},
   "outputs": [
    {
     "name": "stdout",
     "output_type": "stream",
     "text": [
      "Precison: 1.0\n",
      "Recall: 1.0\n"
     ]
    }
   ],
   "source": [
    "#CatBoost\n",
    "model_3 = CatBoostClassifier(silent=True)\n",
    "model_3.fit(X_train, y_train)\n",
    "preds_3 = model_3.predict(X_test)\n",
    "precision_3 = precision_score(y_test, preds_3,average='micro')\n",
    "recall_3 = recall_score(y_test, preds_3, average='micro')\n",
    "print(f'Precison: {precision_3}')\n",
    "print(f'Recall: {recall_3}')"
   ]
  },
  {
   "cell_type": "markdown",
   "id": "deeed880",
   "metadata": {},
   "source": [
    "All the three models i.e. **GradientBoostingClassifier**, **CatBoostClassifier** performs same."
   ]
  },
  {
   "cell_type": "markdown",
   "id": "e97dda82",
   "metadata": {},
   "source": [
    "#### Classification report"
   ]
  },
  {
   "cell_type": "code",
   "execution_count": 53,
   "id": "f98dd2c5",
   "metadata": {},
   "outputs": [
    {
     "name": "stdout",
     "output_type": "stream",
     "text": [
      "CLASSIFICATION REPORT OF GRADIENT BOOSTING CLASSIFIER\n",
      "              precision    recall  f1-score   support\n",
      "\n",
      "         0.0       1.00      1.00      1.00       152\n",
      "         1.0       1.00      1.00      1.00       272\n",
      "         2.0       1.00      1.00      1.00       430\n",
      "         3.0       1.00      1.00      1.00       363\n",
      "         4.0       1.00      1.00      1.00       330\n",
      "         5.0       1.00      1.00      1.00       399\n",
      "         6.0       1.00      1.00      1.00       176\n",
      "         7.0       1.00      1.00      1.00       192\n",
      "         8.0       1.00      1.00      1.00       686\n",
      "         9.0       1.00      1.00      1.00       416\n",
      "        10.0       1.00      1.00      1.00       174\n",
      "        11.0       1.00      1.00      1.00       202\n",
      "        12.0       1.00      1.00      1.00       272\n",
      "        13.0       1.00      1.00      1.00       262\n",
      "        14.0       1.00      1.00      1.00       243\n",
      "        15.0       1.00      1.00      1.00       279\n",
      "        16.0       1.00      1.00      1.00       180\n",
      "        17.0       1.00      1.00      1.00       300\n",
      "        18.0       1.00      1.00      1.00        88\n",
      "        19.0       1.00      1.00      1.00       178\n",
      "        20.0       1.00      1.00      1.00       429\n",
      "        21.0       1.00      1.00      1.00       210\n",
      "\n",
      "    accuracy                           1.00      6233\n",
      "   macro avg       1.00      1.00      1.00      6233\n",
      "weighted avg       1.00      1.00      1.00      6233\n",
      "\n"
     ]
    }
   ],
   "source": [
    "print(\"CLASSIFICATION REPORT OF GRADIENT BOOSTING CLASSIFIER\")\n",
    "print(classification_report(y_test,preds_2))"
   ]
  },
  {
   "cell_type": "code",
   "execution_count": 54,
   "id": "a2f7fc34",
   "metadata": {},
   "outputs": [
    {
     "name": "stdout",
     "output_type": "stream",
     "text": [
      "CLASSIFICATION REPORT OF CATBOOST CLASSIFIER\n",
      "              precision    recall  f1-score   support\n",
      "\n",
      "         0.0       1.00      1.00      1.00       152\n",
      "         1.0       1.00      1.00      1.00       272\n",
      "         2.0       1.00      1.00      1.00       430\n",
      "         3.0       1.00      1.00      1.00       363\n",
      "         4.0       1.00      1.00      1.00       330\n",
      "         5.0       1.00      1.00      1.00       399\n",
      "         6.0       1.00      1.00      1.00       176\n",
      "         7.0       1.00      1.00      1.00       192\n",
      "         8.0       1.00      1.00      1.00       686\n",
      "         9.0       1.00      1.00      1.00       416\n",
      "        10.0       1.00      1.00      1.00       174\n",
      "        11.0       1.00      1.00      1.00       202\n",
      "        12.0       1.00      1.00      1.00       272\n",
      "        13.0       1.00      1.00      1.00       262\n",
      "        14.0       1.00      1.00      1.00       243\n",
      "        15.0       1.00      1.00      1.00       279\n",
      "        16.0       1.00      1.00      1.00       180\n",
      "        17.0       1.00      1.00      1.00       300\n",
      "        18.0       1.00      1.00      1.00        88\n",
      "        19.0       1.00      1.00      1.00       178\n",
      "        20.0       1.00      1.00      1.00       429\n",
      "        21.0       1.00      1.00      1.00       210\n",
      "\n",
      "    accuracy                           1.00      6233\n",
      "   macro avg       1.00      1.00      1.00      6233\n",
      "weighted avg       1.00      1.00      1.00      6233\n",
      "\n"
     ]
    }
   ],
   "source": [
    "print(\"CLASSIFICATION REPORT OF CATBOOST CLASSIFIER\")\n",
    "print(classification_report(y_test,preds_3))"
   ]
  },
  {
   "cell_type": "markdown",
   "id": "db989f6c",
   "metadata": {},
   "source": [
    "#### Feature Importance"
   ]
  },
  {
   "cell_type": "code",
   "execution_count": 71,
   "id": "c4c71abe",
   "metadata": {},
   "outputs": [],
   "source": [
    "importances = model_2.feature_importances_"
   ]
  },
  {
   "cell_type": "code",
   "execution_count": 72,
   "id": "78e9cfbb",
   "metadata": {},
   "outputs": [],
   "source": [
    "imp = pd.DataFrame(index=categorical_features)\n",
    "imp['Importance'] = importances"
   ]
  },
  {
   "cell_type": "code",
   "execution_count": 73,
   "id": "f92f373e",
   "metadata": {},
   "outputs": [
    {
     "data": {
      "text/html": [
       "<div>\n",
       "<style scoped>\n",
       "    .dataframe tbody tr th:only-of-type {\n",
       "        vertical-align: middle;\n",
       "    }\n",
       "\n",
       "    .dataframe tbody tr th {\n",
       "        vertical-align: top;\n",
       "    }\n",
       "\n",
       "    .dataframe thead th {\n",
       "        text-align: right;\n",
       "    }\n",
       "</style>\n",
       "<table border=\"1\" class=\"dataframe\">\n",
       "  <thead>\n",
       "    <tr style=\"text-align: right;\">\n",
       "      <th></th>\n",
       "      <th>Importance</th>\n",
       "    </tr>\n",
       "  </thead>\n",
       "  <tbody>\n",
       "    <tr>\n",
       "      <th>City</th>\n",
       "      <td>9.999911e-01</td>\n",
       "    </tr>\n",
       "    <tr>\n",
       "      <th>Sport</th>\n",
       "      <td>2.481075e-16</td>\n",
       "    </tr>\n",
       "    <tr>\n",
       "      <th>Discipline</th>\n",
       "      <td>2.108354e-18</td>\n",
       "    </tr>\n",
       "    <tr>\n",
       "      <th>Athlete</th>\n",
       "      <td>1.565469e-14</td>\n",
       "    </tr>\n",
       "    <tr>\n",
       "      <th>Country</th>\n",
       "      <td>8.884224e-06</td>\n",
       "    </tr>\n",
       "    <tr>\n",
       "      <th>Gender</th>\n",
       "      <td>1.565575e-19</td>\n",
       "    </tr>\n",
       "    <tr>\n",
       "      <th>Event</th>\n",
       "      <td>2.349297e-16</td>\n",
       "    </tr>\n",
       "    <tr>\n",
       "      <th>Medal</th>\n",
       "      <td>-9.131498e-23</td>\n",
       "    </tr>\n",
       "  </tbody>\n",
       "</table>\n",
       "</div>"
      ],
      "text/plain": [
       "              Importance\n",
       "City        9.999911e-01\n",
       "Sport       2.481075e-16\n",
       "Discipline  2.108354e-18\n",
       "Athlete     1.565469e-14\n",
       "Country     8.884224e-06\n",
       "Gender      1.565575e-19\n",
       "Event       2.349297e-16\n",
       "Medal      -9.131498e-23"
      ]
     },
     "execution_count": 73,
     "metadata": {},
     "output_type": "execute_result"
    }
   ],
   "source": [
    "imp"
   ]
  }
 ],
 "metadata": {
  "kernelspec": {
   "display_name": "Python 3 (ipykernel)",
   "language": "python",
   "name": "python3"
  },
  "language_info": {
   "codemirror_mode": {
    "name": "ipython",
    "version": 3
   },
   "file_extension": ".py",
   "mimetype": "text/x-python",
   "name": "python",
   "nbconvert_exporter": "python",
   "pygments_lexer": "ipython3",
   "version": "3.8.5"
  }
 },
 "nbformat": 4,
 "nbformat_minor": 5
}
